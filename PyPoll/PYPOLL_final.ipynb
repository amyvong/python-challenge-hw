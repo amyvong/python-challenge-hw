{
 "cells": [
  {
   "cell_type": "code",
   "execution_count": 8,
   "metadata": {},
   "outputs": [
    {
     "name": "stdout",
     "output_type": "stream",
     "text": [
      "Election Results\n",
      "------------------------\n",
      "Total Votes: 3521001\n",
      "-------------------------\n",
      "[['Khan', '63.00%', 2218231], ['Li', '14.00%', 492940], ['Correy', '20.00%', 704200], [\"O'Tooley\", '3.00%', 105630]]\n",
      "-------------------------\n",
      "Winner: Khan\n",
      "------------------------\n"
     ]
    }
   ],
   "source": [
    "#create lists that will house a list of candidate name and vote count and one that will house votes\n",
    "name=[]\n",
    "votes=[]\n",
    "\n",
    "\n",
    "import os\n",
    "import csv\n",
    "csvpath=os.path.join(\"Resources/election_data.csv\")\n",
    "with open(csvpath) as csvfile:\n",
    "    csvreader = csv.reader(csvfile, delimiter=\",\")\n",
    "    header = next(csvreader) \n",
    "#with csvreader of raw data, append index 2 which has the raw data of votes per name.\n",
    "    for row in csvreader:\n",
    "        name.append(row[2])\n",
    "\n",
    "#take the len of names and count as total counts of all votes        \n",
    "totalvotes=len(name)        \n",
    "  \n",
    "#candidate_info will return all names and amount of votes into it's own lists. v will be the variable for different names in the set, count will count that name and house the total vote, and it will be returned to the variable and list of candidate_name    \n",
    "#taking all votes and appending it into it's own list called \"votes\", if the max of that list equals the max of the index, return the corresponding name. Variable \"Winner\" will return the name of the corresponding candidate with the most votes\n",
    "candidate_info=([ [v, name.count(v)] for v in set(name)]) \n",
    "for x in candidate_info:\n",
    "    votes.append((x[1]))\n",
    "    maxvotes=(max(votes))\n",
    "    if (x[1])==maxvotes:\n",
    "        winner = (x[0])\n",
    "\n",
    "#one through four will be the lists that contain the votes and names from the previous variable candidate_info        \n",
    "one=(candidate_info[0])\n",
    "two=(candidate_info[1])\n",
    "three= (candidate_info[2])\n",
    "four= (candidate_info[3])\n",
    "\n",
    "#avg will return the averages of the votes per candidate. the variable totalvotes is the len of index 2 from our raw data that will return the count of all votes.\n",
    "\n",
    "avgo=(int(one[1])/totalvotes)\n",
    "avgt=(int(two[1])/totalvotes)\n",
    "avgth=(int(three[1])/totalvotes)\n",
    "avgf=(int(four[1])/totalvotes)\n",
    "\n",
    "\n",
    "#the avgs of all candidates are amended here to add % signs to the values\n",
    "avgo=\"{:.2%}\".format(avgo)\n",
    "avgt=\"{:.2%}\".format(avgt)\n",
    "avgth=\"{:.2%}\".format(avgth)\n",
    "avgf=\"{:.2%}\".format(avgf)\n",
    "\n",
    "\n",
    "#taking the new ammended averages, insert back into filtered candidate list\n",
    "one.insert(1, avgo)\n",
    "two.insert(1, avgt)\n",
    "three.insert(1, avgth)\n",
    "four.insert(1, avgf)\n",
    "\n",
    "\n",
    "#print candidate info\n",
    "\n",
    "print(f'Election Results')\n",
    "print(f'------------------------')\n",
    "print(f'Total Votes: {totalvotes}')\n",
    "print(f'-------------------------')\n",
    "print(f'{candidate_info}')\n",
    "print(f'-------------------------')\n",
    "print(f'Winner: {winner}')\n",
    "print(f'------------------------')\n",
    "\n",
    "pypolltxt = os.path.join(\"..\", \"output\", \"new.csv\")\n",
    "with open(\"pypolltext\", 'w') as csvfile:\n",
    "    csvwriter=csv.writer(csvfile, delimiter=',')\n",
    "    csvwriter.writerow(f'Election Results')\n",
    "    csvwriter.writerow(f'------------------------')\n",
    "    csvwriter.writerow(f'Total Votes: {totalvotes}')\n",
    "    csvwriter.writerow(f'-------------------------')\n",
    "    csvwriter.writerow(f'{candidate_info}')\n",
    "    csvwriter.writerow(f'-------------------------')\n",
    "    csvwriter.writerow(f'Winner: {winner}')\n",
    "    csvwriter.writerow(f'------------------------')\n"
   ]
  },
  {
   "cell_type": "code",
   "execution_count": null,
   "metadata": {},
   "outputs": [],
   "source": []
  },
  {
   "cell_type": "code",
   "execution_count": null,
   "metadata": {},
   "outputs": [],
   "source": []
  },
  {
   "cell_type": "code",
   "execution_count": null,
   "metadata": {},
   "outputs": [],
   "source": []
  }
 ],
 "metadata": {
  "kernelspec": {
   "display_name": "Python 3",
   "language": "python",
   "name": "python3"
  },
  "language_info": {
   "codemirror_mode": {
    "name": "ipython",
    "version": 3
   },
   "file_extension": ".py",
   "mimetype": "text/x-python",
   "name": "python",
   "nbconvert_exporter": "python",
   "pygments_lexer": "ipython3",
   "version": "3.7.6"
  }
 },
 "nbformat": 4,
 "nbformat_minor": 4
}
