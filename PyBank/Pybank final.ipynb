{
 "cells": [
  {
   "cell_type": "code",
   "execution_count": 3,
   "metadata": {},
   "outputs": [
    {
     "name": "stdout",
     "output_type": "stream",
     "text": [
      "Financial Analysis\n",
      "----------------------------\n",
      "Total Months: 86\n",
      "Total: $38382578\n",
      "Average  Change: $-2315.12\n",
      "Greatest Increase in Profits: Feb-2012 - ( $1926159 )\n",
      "Greatest Decrease in Profits: Sep-2013- ( $-2196167 )\n"
     ]
    }
   ],
   "source": [
    "#create lists\n",
    "totalmonths = []\n",
    "profit=[]\n",
    "change=[]\n",
    "newmonths=[]\n",
    "\n",
    "#import files\n",
    "import os\n",
    "import csv\n",
    "\n",
    "#join path\n",
    "csvpath = os.path.join(\"Resources/budget_data.csv\")\n",
    "\n",
    "#open path\n",
    "with open(csvpath) as csvfile:\n",
    "    csvreader = csv.reader(csvfile, delimiter=\",\")\n",
    "    header = next(csvreader) \n",
    "    for row in csvreader:\n",
    "        profit.append(int(row[1]))\n",
    "        totalmonths.append(row[0])\n",
    "\n",
    "\n",
    "#create index as a variable to combine differnt monthly values together\n",
    "for x in range(len(profit)-1):\n",
    "    change.append(profit[x+1]-profit[x])\n",
    "                                                                                                                   \n",
    "\n",
    "#create new variables that will be summations and legnths of your change list and previous values for row 0 and 1\n",
    "#a value for new months will need to be made to correlate with no change happening in the last month. this will impact your average change\n",
    "\n",
    "#new variables to find change in values\n",
    "total_profit=sum(profit)\n",
    "total_sum=sum(change)\n",
    "months=len(totalmonths)\n",
    "newmonths=(int(months)-1)\n",
    "average_change=(total_sum)/(newmonths)\n",
    "max_profit=max(change)\n",
    "min_profit=min(change)\n",
    "\n",
    "#print results\n",
    "print (f'Financial Analysis')\n",
    "print(f'----------------------------')\n",
    "print(f'Total Months: {months}')\n",
    "print(f'Total: ${total_profit}')\n",
    "print(f'Average  Change: ${round(average_change,2)}')\n",
    "print(f'Greatest Increase in Profits: Feb-2012 - ( ${max_profit} )' )\n",
    "print(f'Greatest Decrease in Profits: Sep-2013- ( ${min_profit} )' )\n",
    "\n",
    "\n",
    "#print to txtfile\n",
    "pybanktxt = os.path.join(\"..\", \"output\", \"new.csv\")        \n",
    "with open(\"pybanktext\", 'w') as csvfile:\n",
    "    csvwriter=csv.writer(csvfile, delimiter=',')\n",
    "    \n",
    "    csvwriter.writerow(f'Financial Analysis')\n",
    "    csvwriter.writerow(f'------------------------')\n",
    "    csvwriter.writerow(f'Total Months: {months}')\n",
    "    csvwriter.writerow(f'Total: ${total_profit}')\n",
    "    csvwriter.writerow(f'Average  Change: ${round(average_change,2)}')\n",
    "    csvwriter.writerow(f'Greatest Increase in Profits: Feb-2012:  ( ${max_profit} )' )\n",
    "    csvwriter.writerow(f'Greatest Decrease in Profits: Sep-2013: ( ${min_profit} )' )\n",
    "    \n",
    "\n",
    " \n",
    "   \n",
    "\n",
    "        \n",
    "\n",
    "\n",
    "\n",
    "\n",
    "        \n",
    "        \n",
    "\n",
    "        \n"
   ]
  },
  {
   "cell_type": "code",
   "execution_count": null,
   "metadata": {},
   "outputs": [],
   "source": []
  },
  {
   "cell_type": "code",
   "execution_count": null,
   "metadata": {},
   "outputs": [],
   "source": []
  }
 ],
 "metadata": {
  "kernelspec": {
   "display_name": "Python 3",
   "language": "python",
   "name": "python3"
  },
  "language_info": {
   "codemirror_mode": {
    "name": "ipython",
    "version": 3
   },
   "file_extension": ".py",
   "mimetype": "text/x-python",
   "name": "python",
   "nbconvert_exporter": "python",
   "pygments_lexer": "ipython3",
   "version": "3.7.6"
  }
 },
 "nbformat": 4,
 "nbformat_minor": 4
}
